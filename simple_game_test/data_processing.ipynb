{
 "cells": [
  {
   "cell_type": "code",
   "execution_count": 2,
   "metadata": {},
   "outputs": [
    {
     "name": "stdout",
     "output_type": "stream",
     "text": [
      "No tables found in the database.\n"
     ]
    }
   ],
   "source": [
    "import sqlite3\n",
    "\n",
    "def print_table_data(database_file):\n",
    "    try:\n",
    "        # Connect to the database\n",
    "        conn = sqlite3.connect(database_file)\n",
    "        cursor = conn.cursor()\n",
    "\n",
    "        # Fetch all table names\n",
    "        cursor.execute(\"SELECT name FROM sqlite_master WHERE type='table';\")\n",
    "        tables = cursor.fetchall()\n",
    "\n",
    "        if not tables:\n",
    "            print(\"No tables found in the database.\")\n",
    "            return\n",
    "\n",
    "        # Iterate through each table and print its data\n",
    "        for table in tables:\n",
    "            table_name = table[0]\n",
    "            print(f\"\\nTable: {table_name}\")\n",
    "            cursor.execute(f\"SELECT * FROM {table_name}\")\n",
    "            rows = cursor.fetchall()\n",
    "\n",
    "            # Fetch column names\n",
    "            column_names = [description[0] for description in cursor.description]\n",
    "            print(\" | \".join(column_names))  # Print column headers\n",
    "\n",
    "            # Print each row\n",
    "            for row in rows:\n",
    "                print(\" | \".join(map(str, row)))\n",
    "\n",
    "    except sqlite3.Error as e:\n",
    "        print(f\"Database error: {e}\")\n",
    "    except Exception as e:\n",
    "        print(f\"Unexpected error: {e}\")\n",
    "    finally:\n",
    "        # Close the database connection\n",
    "        if conn:\n",
    "            conn.close()\n",
    "\n",
    "# Replace 'app.db' with your database file path if needed\n",
    "print_table_data('app.db')\n"
   ]
  }
 ],
 "metadata": {
  "kernelspec": {
   "display_name": "aug_taxi",
   "language": "python",
   "name": "python3"
  },
  "language_info": {
   "codemirror_mode": {
    "name": "ipython",
    "version": 3
   },
   "file_extension": ".py",
   "mimetype": "text/x-python",
   "name": "python",
   "nbconvert_exporter": "python",
   "pygments_lexer": "ipython3",
   "version": "3.9.15"
  }
 },
 "nbformat": 4,
 "nbformat_minor": 2
}
